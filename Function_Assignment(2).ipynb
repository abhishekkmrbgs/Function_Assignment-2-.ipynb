{
  "nbformat": 4,
  "nbformat_minor": 0,
  "metadata": {
    "colab": {
      "provenance": []
    },
    "kernelspec": {
      "name": "python3",
      "display_name": "Python 3"
    },
    "language_info": {
      "name": "python"
    }
  },
  "cells": [
    {
      "cell_type": "markdown",
      "source": [
        "1. . Write a Python function that takes a list of numbers as input and returns the sum of all even numbers in\n",
        "the list."
      ],
      "metadata": {
        "id": "nvBvGisYWCre"
      }
    },
    {
      "cell_type": "code",
      "source": [
        "def sum_of_evens(numbers):\n",
        "    \"\"\"\n",
        "    Calculate the sum of all even numbers in the given list.\n",
        "\n",
        "    Args:\n",
        "        numbers (list): A list of integers.\n",
        "\n",
        "    Returns:\n",
        "        int: The sum of even numbers in the list.\n",
        "    \"\"\"\n",
        "    total = 0\n",
        "    for num in numbers:\n",
        "        if num % 2 == 0:  # Check if the number is even\n",
        "            total += num\n",
        "    return total\n",
        "\n",
        "# Example usage:\n",
        "example_list = [1, 2, 3, 4, 5, 6]\n",
        "result = sum_of_evens(example_list)\n",
        "\n",
        "print(f\"The sum of even numbers in the list is: {result}\")\n",
        "\n",
        "#Even numbers in the list are: 2, 4, and 6.\n",
        "#The sum of even numbers is: 2 + 4 + 6 = 12.\n"
      ],
      "metadata": {
        "colab": {
          "base_uri": "https://localhost:8080/"
        },
        "id": "Sg4O3Ye8WXYP",
        "outputId": "adb3aec6-48de-47cd-96da-d8b3fb58a0f3"
      },
      "execution_count": null,
      "outputs": [
        {
          "output_type": "stream",
          "name": "stdout",
          "text": [
            "The sum of even numbers in the list is: 12\n"
          ]
        }
      ]
    },
    {
      "cell_type": "markdown",
      "source": [
        "2.  Create a Python function that accepts a string and returns the reverse of that string."
      ],
      "metadata": {
        "id": "2UDLQum1XUUD"
      }
    },
    {
      "cell_type": "code",
      "source": [
        "def reverse_string(input_string):\n",
        "    \"\"\"\n",
        "    Reverses the input string.\n",
        "\n",
        "    Args:\n",
        "        input_string (str): The string to be reversed.\n",
        "\n",
        "    Returns:\n",
        "        str: The reversed string.\n",
        "    \"\"\"\n",
        "    return input_string[::-1]\n",
        "\n",
        "# Example usage\n",
        "example = \"Hello, World!\"\n",
        "print(reverse_string(example))  # Output: \"!dlroW ,olleH\"\n"
      ],
      "metadata": {
        "colab": {
          "base_uri": "https://localhost:8080/"
        },
        "id": "NJsJfbAMXrHm",
        "outputId": "ca376f0e-f158-4781-be0d-2201fd54b1b4"
      },
      "execution_count": null,
      "outputs": [
        {
          "output_type": "stream",
          "name": "stdout",
          "text": [
            "!dlroW ,olleH\n"
          ]
        }
      ]
    },
    {
      "cell_type": "markdown",
      "source": [
        "3. . Implement a Python function that takes a list of integers and returns a new list containing the squares of\n",
        "each number."
      ],
      "metadata": {
        "id": "h4CzUAx8XvXb"
      }
    },
    {
      "cell_type": "code",
      "source": [
        "def square_numbers(numbers):\n",
        "    \"\"\"\n",
        "    Returns a new list containing the squares of the input numbers.\n",
        "\n",
        "    Args:\n",
        "        numbers (list): A list of integers.\n",
        "\n",
        "    Returns:\n",
        "        list: A new list containing the squares of each number.\n",
        "    \"\"\"\n",
        "    return [number ** 2 for number in numbers]\n",
        "\n",
        "# Example usage\n",
        "input_list = [1, 2, 3, 4, 5]\n",
        "squared_list = square_numbers(input_list)\n",
        "print(squared_list)  # Output: [1, 4, 9, 16, 25]\n"
      ],
      "metadata": {
        "colab": {
          "base_uri": "https://localhost:8080/"
        },
        "id": "YqVYloucYKff",
        "outputId": "c87d2b14-f2cb-453e-9a25-4990bfd1325a"
      },
      "execution_count": null,
      "outputs": [
        {
          "output_type": "stream",
          "name": "stdout",
          "text": [
            "[1, 4, 9, 16, 25]\n"
          ]
        }
      ]
    },
    {
      "cell_type": "markdown",
      "source": [
        "4. Write a Python function that checks if a given number is prime or not from 1 to 200."
      ],
      "metadata": {
        "id": "HBKxb25TYNXT"
      }
    },
    {
      "cell_type": "code",
      "source": [
        "def is_prime(num):\n",
        "    \"\"\"\n",
        "    Check if a number is prime.\n",
        "\n",
        "    :param num: Integer to check (1 <= num <= 200)\n",
        "    :return: True if the number is prime, False otherwise\n",
        "    \"\"\"\n",
        "    if num < 2:  # 0 and 1 are not prime\n",
        "        return False\n",
        "    for i in range(2, int(num ** 0.5) + 1):  # Check divisors up to the square root of num\n",
        "        if num % i == 0:\n",
        "            return False\n",
        "    return True\n",
        "\n",
        "# Test the function with numbers from 1 to 200\n",
        "for n in range(1, 201):\n",
        "    print(f\"{n} is prime: {is_prime(n)}\")\n"
      ],
      "metadata": {
        "colab": {
          "base_uri": "https://localhost:8080/"
        },
        "id": "jhwWq-4BZxTL",
        "outputId": "e3a0ce12-cbc9-45d3-e4a9-f328f3d31947"
      },
      "execution_count": null,
      "outputs": [
        {
          "output_type": "stream",
          "name": "stdout",
          "text": [
            "1 is prime: False\n",
            "2 is prime: True\n",
            "3 is prime: True\n",
            "4 is prime: False\n",
            "5 is prime: True\n",
            "6 is prime: False\n",
            "7 is prime: True\n",
            "8 is prime: False\n",
            "9 is prime: False\n",
            "10 is prime: False\n",
            "11 is prime: True\n",
            "12 is prime: False\n",
            "13 is prime: True\n",
            "14 is prime: False\n",
            "15 is prime: False\n",
            "16 is prime: False\n",
            "17 is prime: True\n",
            "18 is prime: False\n",
            "19 is prime: True\n",
            "20 is prime: False\n",
            "21 is prime: False\n",
            "22 is prime: False\n",
            "23 is prime: True\n",
            "24 is prime: False\n",
            "25 is prime: False\n",
            "26 is prime: False\n",
            "27 is prime: False\n",
            "28 is prime: False\n",
            "29 is prime: True\n",
            "30 is prime: False\n",
            "31 is prime: True\n",
            "32 is prime: False\n",
            "33 is prime: False\n",
            "34 is prime: False\n",
            "35 is prime: False\n",
            "36 is prime: False\n",
            "37 is prime: True\n",
            "38 is prime: False\n",
            "39 is prime: False\n",
            "40 is prime: False\n",
            "41 is prime: True\n",
            "42 is prime: False\n",
            "43 is prime: True\n",
            "44 is prime: False\n",
            "45 is prime: False\n",
            "46 is prime: False\n",
            "47 is prime: True\n",
            "48 is prime: False\n",
            "49 is prime: False\n",
            "50 is prime: False\n",
            "51 is prime: False\n",
            "52 is prime: False\n",
            "53 is prime: True\n",
            "54 is prime: False\n",
            "55 is prime: False\n",
            "56 is prime: False\n",
            "57 is prime: False\n",
            "58 is prime: False\n",
            "59 is prime: True\n",
            "60 is prime: False\n",
            "61 is prime: True\n",
            "62 is prime: False\n",
            "63 is prime: False\n",
            "64 is prime: False\n",
            "65 is prime: False\n",
            "66 is prime: False\n",
            "67 is prime: True\n",
            "68 is prime: False\n",
            "69 is prime: False\n",
            "70 is prime: False\n",
            "71 is prime: True\n",
            "72 is prime: False\n",
            "73 is prime: True\n",
            "74 is prime: False\n",
            "75 is prime: False\n",
            "76 is prime: False\n",
            "77 is prime: False\n",
            "78 is prime: False\n",
            "79 is prime: True\n",
            "80 is prime: False\n",
            "81 is prime: False\n",
            "82 is prime: False\n",
            "83 is prime: True\n",
            "84 is prime: False\n",
            "85 is prime: False\n",
            "86 is prime: False\n",
            "87 is prime: False\n",
            "88 is prime: False\n",
            "89 is prime: True\n",
            "90 is prime: False\n",
            "91 is prime: False\n",
            "92 is prime: False\n",
            "93 is prime: False\n",
            "94 is prime: False\n",
            "95 is prime: False\n",
            "96 is prime: False\n",
            "97 is prime: True\n",
            "98 is prime: False\n",
            "99 is prime: False\n",
            "100 is prime: False\n",
            "101 is prime: True\n",
            "102 is prime: False\n",
            "103 is prime: True\n",
            "104 is prime: False\n",
            "105 is prime: False\n",
            "106 is prime: False\n",
            "107 is prime: True\n",
            "108 is prime: False\n",
            "109 is prime: True\n",
            "110 is prime: False\n",
            "111 is prime: False\n",
            "112 is prime: False\n",
            "113 is prime: True\n",
            "114 is prime: False\n",
            "115 is prime: False\n",
            "116 is prime: False\n",
            "117 is prime: False\n",
            "118 is prime: False\n",
            "119 is prime: False\n",
            "120 is prime: False\n",
            "121 is prime: False\n",
            "122 is prime: False\n",
            "123 is prime: False\n",
            "124 is prime: False\n",
            "125 is prime: False\n",
            "126 is prime: False\n",
            "127 is prime: True\n",
            "128 is prime: False\n",
            "129 is prime: False\n",
            "130 is prime: False\n",
            "131 is prime: True\n",
            "132 is prime: False\n",
            "133 is prime: False\n",
            "134 is prime: False\n",
            "135 is prime: False\n",
            "136 is prime: False\n",
            "137 is prime: True\n",
            "138 is prime: False\n",
            "139 is prime: True\n",
            "140 is prime: False\n",
            "141 is prime: False\n",
            "142 is prime: False\n",
            "143 is prime: False\n",
            "144 is prime: False\n",
            "145 is prime: False\n",
            "146 is prime: False\n",
            "147 is prime: False\n",
            "148 is prime: False\n",
            "149 is prime: True\n",
            "150 is prime: False\n",
            "151 is prime: True\n",
            "152 is prime: False\n",
            "153 is prime: False\n",
            "154 is prime: False\n",
            "155 is prime: False\n",
            "156 is prime: False\n",
            "157 is prime: True\n",
            "158 is prime: False\n",
            "159 is prime: False\n",
            "160 is prime: False\n",
            "161 is prime: False\n",
            "162 is prime: False\n",
            "163 is prime: True\n",
            "164 is prime: False\n",
            "165 is prime: False\n",
            "166 is prime: False\n",
            "167 is prime: True\n",
            "168 is prime: False\n",
            "169 is prime: False\n",
            "170 is prime: False\n",
            "171 is prime: False\n",
            "172 is prime: False\n",
            "173 is prime: True\n",
            "174 is prime: False\n",
            "175 is prime: False\n",
            "176 is prime: False\n",
            "177 is prime: False\n",
            "178 is prime: False\n",
            "179 is prime: True\n",
            "180 is prime: False\n",
            "181 is prime: True\n",
            "182 is prime: False\n",
            "183 is prime: False\n",
            "184 is prime: False\n",
            "185 is prime: False\n",
            "186 is prime: False\n",
            "187 is prime: False\n",
            "188 is prime: False\n",
            "189 is prime: False\n",
            "190 is prime: False\n",
            "191 is prime: True\n",
            "192 is prime: False\n",
            "193 is prime: True\n",
            "194 is prime: False\n",
            "195 is prime: False\n",
            "196 is prime: False\n",
            "197 is prime: True\n",
            "198 is prime: False\n",
            "199 is prime: True\n",
            "200 is prime: False\n"
          ]
        }
      ]
    },
    {
      "cell_type": "code",
      "source": [],
      "metadata": {
        "id": "0JpIkkdmfZ7w"
      },
      "execution_count": null,
      "outputs": []
    },
    {
      "cell_type": "markdown",
      "source": [
        "5. Create an iterator class in Python that generates the Fibonacci sequence up to a specified number of\n",
        "terms."
      ],
      "metadata": {
        "id": "72IhipBZfa0y"
      }
    },
    {
      "cell_type": "code",
      "source": [
        "class FibonacciIterator:\n",
        "    def __init__(self, n_terms):\n",
        "        \"\"\"\n",
        "        Initialize the iterator with the specified number of terms.\n",
        "\n",
        "        :param n_terms: The number of terms to generate in the Fibonacci sequence.\n",
        "        \"\"\"\n",
        "        self.n_terms = n_terms\n",
        "        self.current_term = 0\n",
        "        self.a, self.b = 0, 1\n",
        "\n",
        "    def __iter__(self):\n",
        "        \"\"\"\n",
        "        Return the iterator object itself.\n",
        "        \"\"\"\n",
        "        return self\n",
        "\n",
        "    def __next__(self):\n",
        "        \"\"\"\n",
        "        Generate the next term in the Fibonacci sequence.\n",
        "        \"\"\"\n",
        "        if self.current_term >= self.n_terms:\n",
        "            raise StopIteration\n",
        "\n",
        "        if self.current_term == 0:\n",
        "            self.current_term += 1\n",
        "            return self.a\n",
        "\n",
        "        self.a, self.b = self.b, self.a + self.b\n",
        "        self.current_term += 1\n",
        "        return self.a\n",
        "\n",
        "# Example usage:\n",
        "n = 10  # Number of terms to generate\n",
        "fibonacci_iterator = FibonacciIterator(n)\n",
        "for term in fibonacci_iterator:\n",
        "    print(term)\n"
      ],
      "metadata": {
        "colab": {
          "base_uri": "https://localhost:8080/"
        },
        "id": "IfsFmCMTgE-2",
        "outputId": "fd1953f6-c01d-40ba-d50d-632402a62811"
      },
      "execution_count": null,
      "outputs": [
        {
          "output_type": "stream",
          "name": "stdout",
          "text": [
            "0\n",
            "1\n",
            "1\n",
            "2\n",
            "3\n",
            "5\n",
            "8\n",
            "13\n",
            "21\n",
            "34\n"
          ]
        }
      ]
    },
    {
      "cell_type": "markdown",
      "source": [
        "6. Write a generator function in Python that yields the powers of 2 up to a given exponent."
      ],
      "metadata": {
        "id": "rSP__dPpgVXu"
      }
    },
    {
      "cell_type": "code",
      "source": [
        "def powers_of_two(max_exponent):\n",
        "    \"\"\"\n",
        "    A generator function that yields powers of 2 from 2^0 to 2^max_exponent.\n",
        "\n",
        "    :param max_exponent: The highest exponent for which 2^exponent will be generated.\n",
        "    \"\"\"\n",
        "    for exponent in range(max_exponent + 1):\n",
        "        yield 2 ** exponent\n",
        "\n",
        "# Example usage:\n",
        "for value in powers_of_two(5):\n",
        "    print(value)\n"
      ],
      "metadata": {
        "colab": {
          "base_uri": "https://localhost:8080/"
        },
        "id": "ssAIGTd1ajin",
        "outputId": "75c2a853-8cda-4e14-c02f-4737c73a5e8d"
      },
      "execution_count": null,
      "outputs": [
        {
          "output_type": "stream",
          "name": "stdout",
          "text": [
            "1\n",
            "2\n",
            "4\n",
            "8\n",
            "16\n",
            "32\n"
          ]
        }
      ]
    },
    {
      "cell_type": "markdown",
      "source": [
        "7.  Implement a generator function that reads a file line by line and yields each line as a string."
      ],
      "metadata": {
        "id": "ZSFp0uxjAxm7"
      }
    },
    {
      "cell_type": "code",
      "source": [
        "def read_file_line_by_line(file_path):\n",
        "    \"\"\"\n",
        "    A generator that reads a file line by line.\n",
        "    \"\"\"\n",
        "    with open(file_path, 'r') as file:\n",
        "        for line in file:\n",
        "            yield line.strip()  # Removes leading/trailing whitespace, including newlines\n",
        "\n",
        "# Create a test file with some content\n",
        "with open(\"example.txt\", \"w\") as file:\n",
        "    file.write(\"Hello\\n\")\n",
        "    file.write(\"World\\n\")\n",
        "    file.write(\"Generator Function\\n\")\n",
        "\n",
        "# Use the generator to read the file line by line\n",
        "print(\"Reading the file:\")\n",
        "for line in read_file_line_by_line(\"example.txt\"):\n",
        "    print(line)\n"
      ],
      "metadata": {
        "colab": {
          "base_uri": "https://localhost:8080/"
        },
        "id": "DLasKpneBsX0",
        "outputId": "dc09ca1f-5133-429f-bf63-524d7cbec58f"
      },
      "execution_count": null,
      "outputs": [
        {
          "output_type": "stream",
          "name": "stdout",
          "text": [
            "Reading the file:\n",
            "Hello\n",
            "World\n",
            "Generator Function\n"
          ]
        }
      ]
    },
    {
      "cell_type": "markdown",
      "source": [
        "8.  Use a lambda function in Python to sort a list of tuples based on the second element of each tuple."
      ],
      "metadata": {
        "id": "Cd4g_I_yCifp"
      }
    },
    {
      "cell_type": "code",
      "source": [
        "# Example list of tuples\n",
        "data = [(1, 4), (3, 1), (5, 2), (2, 3)]\n",
        "\n",
        "# Sort the list based on the second element of each tuple\n",
        "sorted_data = sorted(data, key=lambda x: x[1])\n",
        "\n",
        "print(sorted_data)\n"
      ],
      "metadata": {
        "colab": {
          "base_uri": "https://localhost:8080/"
        },
        "id": "GiSDRjDdCqid",
        "outputId": "41fa52e2-625c-47eb-c529-7ed579bca0c4"
      },
      "execution_count": null,
      "outputs": [
        {
          "output_type": "stream",
          "name": "stdout",
          "text": [
            "[(3, 1), (5, 2), (2, 3), (1, 4)]\n"
          ]
        }
      ]
    },
    {
      "cell_type": "markdown",
      "source": [
        "9. Write a Python program that uses `map()` to convert a list of temperatures from Celsius to Fahrenheit."
      ],
      "metadata": {
        "id": "qghQm6tUC43U"
      }
    },
    {
      "cell_type": "code",
      "source": [
        "def celsius_to_fahrenheit(celsius):\n",
        "    \"\"\"Convert Celsius to Fahrenheit.\"\"\"\n",
        "    return (celsius * 9/5) + 32\n",
        "\n",
        "# List of temperatures in Celsius\n",
        "celsius_temperatures = [0, 10, 20, 30, 40, 100]\n",
        "\n",
        "# Convert to Fahrenheit using map\n",
        "fahrenheit_temperatures = list(map(celsius_to_fahrenheit, celsius_temperatures))\n",
        "\n",
        "# Display the result\n",
        "print(\"Temperatures in Celsius:\", celsius_temperatures)\n",
        "print(\"Temperatures in Fahrenheit:\", fahrenheit_temperatures)\n"
      ],
      "metadata": {
        "colab": {
          "base_uri": "https://localhost:8080/"
        },
        "id": "pVuvw8LiCU1X",
        "outputId": "d14453d6-c990-4e63-b1fb-4f5c8c924e63"
      },
      "execution_count": null,
      "outputs": [
        {
          "output_type": "stream",
          "name": "stdout",
          "text": [
            "Temperatures in Celsius: [0, 10, 20, 30, 40, 100]\n",
            "Temperatures in Fahrenheit: [32.0, 50.0, 68.0, 86.0, 104.0, 212.0]\n"
          ]
        }
      ]
    },
    {
      "cell_type": "markdown",
      "source": [
        "10.  Create a Python program that uses `filter()` to remove all the vowels from a given string."
      ],
      "metadata": {
        "id": "s8HnLF6GDNpZ"
      }
    },
    {
      "cell_type": "code",
      "source": [
        "def remove_vowels(input_string):\n",
        "    vowels = \"aeiouAEIOU\"  # Define the vowels\n",
        "    # Use filter to keep only non-vowel characters\n",
        "    result = filter(lambda char: char not in vowels, input_string)\n",
        "    # Convert the result back to a string\n",
        "    return ''.join(result)\n",
        "\n",
        "# Test the function\n",
        "test_string = \"Hello, how are you doing today?\"\n",
        "result = remove_vowels(test_string)\n",
        "print(\"Original string:\", test_string)\n",
        "print(\"String without vowels:\", result)\n"
      ],
      "metadata": {
        "colab": {
          "base_uri": "https://localhost:8080/"
        },
        "id": "qIipWXMYDaOE",
        "outputId": "3523faeb-2b62-4ab3-ff19-e1ab95048dc4"
      },
      "execution_count": null,
      "outputs": [
        {
          "output_type": "stream",
          "name": "stdout",
          "text": [
            "Original string: Hello, how are you doing today?\n",
            "String without vowels: Hll, hw r y dng tdy?\n"
          ]
        }
      ]
    },
    {
      "cell_type": "markdown",
      "source": [
        "11.Imagine an accounting routine used in a book shop. It works on a list with sublists, which look like this:\n",
        "\n",
        "\n",
        "\n",
        "    Order Number    Book Title and Author            Quantity    Price\n",
        "\n",
        "    34587         Learning Python, Mark Lutz            4        40.95\n",
        "\n",
        "    98762         Programming Python, Mark Lutz         5        56.80\n",
        "\n",
        "    77226         Head First Python, Paul Barry         3        32.95\n",
        "\n",
        "    88112         Einführung in Python3, Bernd Klein    3        24.99\n",
        "\n",
        "Write a Python program that returns a list with 2-tuples. Each tuple consists of the order number and the product of the price per item and the quantity. The product should be increased by 10,- € if the value of the order is smaller than 100,00 €."
      ],
      "metadata": {
        "id": "kKvWEZR-J__l"
      }
    },
    {
      "cell_type": "code",
      "source": [
        "# Input data\n",
        "orders = [\n",
        "    [34587, \"Learning Python, Mark Lutz\", 4, 40.95],\n",
        "    [98762, \"Programming Python, Mark Lutz\", 5, 56.80],\n",
        "    [77226, \"Head First Python, Paul Barry\", 3, 32.95],\n",
        "    [88112, \"Einführung in Python3, Bernd Klein\", 3, 24.99]\n",
        "]\n",
        "\n",
        "# Function to calculate the adjusted total for each order\n",
        "def calculate_order_totals(orders):\n",
        "    result = []\n",
        "    for order in orders:\n",
        "        order_number = order[0]\n",
        "        quantity = order[2]\n",
        "        price_per_item = order[3]\n",
        "        total = quantity * price_per_item\n",
        "        # Add €10 if the total is below €100\n",
        "        if total < 100:\n",
        "            total += 10\n",
        "        result.append((order_number, round(total, 2)))  # Round to 2 decimal places\n",
        "    return result\n",
        "\n",
        "# Calculate and display the results\n",
        "order_totals = calculate_order_totals(orders)\n",
        "print(order_totals)\n"
      ],
      "metadata": {
        "id": "kC-rDzUNDbEh",
        "colab": {
          "base_uri": "https://localhost:8080/"
        },
        "outputId": "89f43415-1bdc-453e-d60b-4bdd57cb9170"
      },
      "execution_count": 8,
      "outputs": [
        {
          "output_type": "stream",
          "name": "stdout",
          "text": [
            "[(34587, 163.8), (98762, 284.0), (77226, 108.85), (88112, 84.97)]\n"
          ]
        }
      ]
    },
    {
      "cell_type": "code",
      "source": [],
      "metadata": {
        "id": "zhnnu2eXKtwp"
      },
      "execution_count": null,
      "outputs": []
    }
  ]
}